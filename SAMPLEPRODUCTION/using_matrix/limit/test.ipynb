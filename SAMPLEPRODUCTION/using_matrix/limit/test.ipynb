{
 "cells": [
  {
   "cell_type": "code",
   "execution_count": null,
   "id": "bd43be81",
   "metadata": {},
   "outputs": [],
   "source": [
    "# N_bkg는 background MC weight 합 (위에서 계산한 bkg_w)\n",
    "N_asimov = bkg_w   # 관측치 대신 Asimov 데이터\n"
   ]
  },
  {
   "cell_type": "code",
   "execution_count": null,
   "id": "6e449829",
   "metadata": {},
   "outputs": [],
   "source": [
    "import pyhf\n",
    "\n",
    "# signal_data: [N_sig]      (mass 포인트별로 채워 줄 값)\n",
    "# bkg_data:    [N_bkg]\n",
    "# bkg_uncerts: [0.0]         (stat-only)\n",
    "model = pyhf.simplemodels.hepdata_like(\n",
    "    signal_data=[N_sig],\n",
    "    bkg_data=[bkg_w],\n",
    "    bkg_uncerts=[0.0],\n",
    ")\n",
    "\n",
    "# Asimov 관측치\n",
    "data_asimov = [N_asimov]\n"
   ]
  },
  {
   "cell_type": "code",
   "execution_count": null,
   "id": "6489e646",
   "metadata": {},
   "outputs": [],
   "source": [
    "results = pyhf.infer.intervals.upper_limits(\n",
    "    model,\n",
    "    data_asimov,\n",
    "    q_profile=False,\n",
    "    return_expected=True\n",
    ")\n",
    "\n",
    "# 반환된 dict 예시 키: 'observed', 'expected'\n",
    "print(f\"Expected 95% UL = {results['expected']:.2f}\")\n"
   ]
  },
  {
   "cell_type": "code",
   "execution_count": null,
   "id": "a5f57271",
   "metadata": {},
   "outputs": [],
   "source": [
    "import matplotlib.pyplot as plt\n",
    "\n",
    "masses     = [100, 200, 300, 400, 500]  # 예시\n",
    "exp_limits = []\n",
    "\n",
    "for m in masses:\n",
    "    # --- signal yield 재계산 ---\n",
    "    sig_file = uproot.open(f\"sig_mass{m}.root\")[\"Events\"]\n",
    "    mask_sig = make_mask(sig_file)\n",
    "    N_sig    = sig_file[\"weight\"].array()[mask_sig].sum()\n",
    "\n",
    "    # --- 모델 & Asimov 데이터 업데이트 ---\n",
    "    model = pyhf.simplemodels.hepdata_like([N_sig], [bkg_w], [0.0])\n",
    "    data_asimov = [bkg_w]\n",
    "\n",
    "    # --- limit 계산 ---\n",
    "    res = pyhf.infer.intervals.upper_limits(model, data_asimov,\n",
    "                                            q_profile=False,\n",
    "                                            return_expected=True)\n",
    "    exp_limits.append(res[\"expected\"])\n",
    "\n",
    "# --- Plot ---\n",
    "plt.figure()\n",
    "plt.step(masses, exp_limits, where='mid', linestyle='--',\n",
    "         label='Expected (Asimov)')\n",
    "plt.xlabel('Signal mass [GeV]')\n",
    "plt.ylabel('95% CL upper limit')\n",
    "plt.yscale('log')\n",
    "plt.legend()\n",
    "plt.title('Stat-only Expected Limit')\n",
    "plt.show()\n"
   ]
  }
 ],
 "metadata": {
  "language_info": {
   "name": "python"
  }
 },
 "nbformat": 4,
 "nbformat_minor": 5
}

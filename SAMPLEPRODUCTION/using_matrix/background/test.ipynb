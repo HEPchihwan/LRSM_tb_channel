{
 "cells": [
  {
   "cell_type": "code",
   "execution_count": 9,
   "id": "b94a9acf",
   "metadata": {},
   "outputs": [
    {
     "name": "stdout",
     "output_type": "stream",
     "text": [
      "genEventCount: 688\n",
      "genEventSumw: 390.473802\n",
      "genEventSumw2: 236.49599047979197\n"
     ]
    }
   ],
   "source": [
    "\n",
    "from importlib import import_module\n",
    "import os\n",
    "import sys\n",
    "import argparse\n",
    "import linecache\n",
    "import uproot\n",
    "import vector\n",
    "import math\n",
    "import numpy as np\n",
    "import matplotlib.pyplot as plt\n",
    "import awkward as ak\n",
    "from tqdm import tqdm  # ✅ 진행률 표시\n",
    "import glob\n",
    "\n",
    "vector.register_awkward()\n",
    "## main back  = ttH , ttZ , ttW , ttbar , tzj\n",
    "\n",
    "#sample = \"/data6/Users/achihwan/LRSM_tb_channel/SAMPLEPRODUCTION/WRtoNMutoMuMuTB-HadTop_MWR-5000_MN-4900_13p6TeV/Run3Summer22NanoAODv12_WRtoNMutoMuMuTB-HadTop_MWR-5000_MN-4900_13p6TeV_1.root\"\n",
    "#sample = \"/gv0/Users/achihwan/TbarWplusto2L2Nu_TuneCP5_13p6TeV_powheg-pythia8/tree_18.root\"\n",
    "#sample = \"/gv0/Users/achihwan/TbarWplustoLNu2Q_TuneCP5_13p6TeV_powheg-pythia8/tree_100.root\"\n",
    "sample = \"/gv0/Users/achihwan/TTH_Hto2Mu_M-125_TuneCP5_13p6TeV_powheg-pythia8/tree_15.root\"\n",
    "#sample = \"/gv0/Users/achihwan/TTH_Hto2Z_M-125_4LFilter_TuneCP5_13p6TeV_powheg2-JHUGenV752-pythia8/tree_13.root\"\n",
    "#sample = \"/gv0/Users/achihwan/TWminusto2L2Nu_TuneCP5_13p6TeV_powheg-pythia8/tree_15.root\"\n",
    "#sample = \"/data6/Users/achihwan/LRSM_tb_channel/SAMPLEPRODUCTION/using_matrix/cleaning/backgroundsample/08528f47-e513-4c27-9e86-a76cdca78fe8.root\" # ttz->mu\n",
    "file = uproot.open(sample)\n",
    "events = file[\"Events\"]\n",
    "runs = file[\"Runs\"]\n",
    "keys = events.keys()\n",
    "gen_sumw = runs[\"genEventSumw\"].array(library=\"np\").sum()\n",
    "\n",
    "print(\"genEventCount:\", runs[\"genEventCount\"].array(library=\"np\").sum())\n",
    "print(\"genEventSumw:\", runs[\"genEventSumw\"].array(library=\"np\").sum())\n",
    "print(\"genEventSumw2:\", runs[\"genEventSumw2\"].array(library=\"np\").sum())"
   ]
  },
  {
   "cell_type": "code",
   "execution_count": null,
   "id": "ce30497c",
   "metadata": {},
   "outputs": [],
   "source": []
  }
 ],
 "metadata": {
  "kernelspec": {
   "display_name": "hep_env",
   "language": "python",
   "name": "python3"
  },
  "language_info": {
   "codemirror_mode": {
    "name": "ipython",
    "version": 3
   },
   "file_extension": ".py",
   "mimetype": "text/x-python",
   "name": "python",
   "nbconvert_exporter": "python",
   "pygments_lexer": "ipython3",
   "version": "3.10.18"
  }
 },
 "nbformat": 4,
 "nbformat_minor": 5
}

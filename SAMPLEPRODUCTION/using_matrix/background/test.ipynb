{
 "cells": [
  {
   "cell_type": "code",
   "execution_count": 3,
   "id": "b94a9acf",
   "metadata": {},
   "outputs": [
    {
     "name": "stdout",
     "output_type": "stream",
     "text": [
      "tau2 [[0.0129, 0.0292, 0.00179, 0.145, 0.189], ..., [0.053, 0.0847, ..., 0.000384]]\n",
      "tau3 [[0.0115, 0.016, 0.00083, 0.112, 0.148], ..., [0.0261, 0.0524, 0.00198, 0]]\n"
     ]
    }
   ],
   "source": [
    "\n",
    "from importlib import import_module\n",
    "import os\n",
    "import sys\n",
    "import argparse\n",
    "import linecache\n",
    "import uproot\n",
    "import vector\n",
    "import math\n",
    "import numpy as np\n",
    "import matplotlib.pyplot as plt\n",
    "import awkward as ak\n",
    "from tqdm import tqdm  # ✅ 진행률 표시\n",
    "import glob\n",
    "\n",
    "vector.register_awkward()\n",
    "## main back  = ttH , ttZ , ttW , ttbar , tzj\n",
    "\n",
    "sample = \"/data6/Users/achihwan/LRSM_tb_channel/SAMPLEPRODUCTION/samples/WRtoNMutoMuMuTB-HadTop_MWR-5000_MN-4900_13p6TeV/Run3Summer22NanoAODv12_WRtoNMutoMuMuTB-HadTop_MWR-5000_MN-4900_13p6TeV_1.root\"\n",
    "#sample = \"/gv0/Users/achihwan/TbarWplusto2L2Nu_TuneCP5_13p6TeV_powheg-pythia8/tree_18.root\"\n",
    "#sample = \"/gv0/Users/achihwan/TbarWplustoLNu2Q_TuneCP5_13p6TeV_powheg-pythia8/tree_100.root\"\n",
    "#sample = \"/gv0/Users/achihwan/TTH_Hto2Mu_M-125_TuneCP5_13p6TeV_powheg-pythia8/tree_15.root\"\n",
    "#sample = \"/gv0/Users/achihwan/TTH_Hto2Z_M-125_4LFilter_TuneCP5_13p6TeV_powheg2-JHUGenV752-pythia8/tree_13.root\"\n",
    "#sample = \"/gv0/Users/achihwan/TWminusto2L2Nu_TuneCP5_13p6TeV_powheg-pythia8/tree_15.root\"\n",
    "#sample = \"/data6/Users/achihwan/LRSM_tb_channel/SAMPLEPRODUCTION/using_matrix/cleaning/backgroundsample/08528f47-e513-4c27-9e86-a76cdca78fe8.root\" # ttz->mu\n",
    "file = uproot.open(sample)\n",
    "events = file[\"Events\"]\n",
    "runs = file[\"Runs\"]\n",
    "keys = events.keys()\n",
    "\n",
    "\n",
    "tau2 = events[\"FatJet_tau2\"].array()\n",
    "tau3 = events[\"FatJet_tau3\"].array()\n",
    "\n",
    "print(\"tau2\", tau2)\n",
    "print(\"tau3\", tau3)\n"
   ]
  },
  {
   "cell_type": "code",
   "execution_count": null,
   "id": "ce30497c",
   "metadata": {},
   "outputs": [],
   "source": []
  }
 ],
 "metadata": {
  "kernelspec": {
   "display_name": "hep_env",
   "language": "python",
   "name": "python3"
  },
  "language_info": {
   "codemirror_mode": {
    "name": "ipython",
    "version": 3
   },
   "file_extension": ".py",
   "mimetype": "text/x-python",
   "name": "python",
   "nbconvert_exporter": "python",
   "pygments_lexer": "ipython3",
   "version": "3.10.18"
  }
 },
 "nbformat": 4,
 "nbformat_minor": 5
}

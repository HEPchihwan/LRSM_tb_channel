{
 "cells": [
  {
   "cell_type": "code",
   "execution_count": null,
   "id": "5159af3b-95ce-4e6d-b366-6b36877729dc",
   "metadata": {},
   "outputs": [
    {
     "ename": "",
     "evalue": "",
     "output_type": "error",
     "traceback": [
      "\u001b[1;31m'base (Python 3.12.8)'(으)로 셀을 실행하려면 ipykernel 패키지가 필요합니다.\n",
      "\u001b[1;31m다음 명령어를 실행하여 Python 환경에 'ipykernel'을(를) 설치합니다. \n",
      "\u001b[1;31m 명령: 'conda install -n base ipykernel --update-deps --force-reinstall'"
     ]
    }
   ],
   "source": [
    "import os\n",
    "import uproot\n",
    "import vector\n",
    "import math\n",
    "import numpy as np\n",
    "import matplotlib.pyplot as plt\n",
    "import awkward as ak\n",
    "#/store/mc/Run3Summer22NanoAODv12/DYto2L-2Jets_MLL-50_PTLL-600_1J_TuneCP5_13p6TeV_amcatnloFXFX-pythia8/NANOAODSIM/130X_mcRun3_2022_realistic_v5-v2/2560000/66897238-ed26-4aa4-a027-808ca7b66bc8.root\n",
    "#/store/mc/Run3Summer22EENanoAODv12/GluGluHto2Zto4Nu_PT-150_M-125_TuneCP5_13p6TeV_powheg-pythia8/NANOAODSIM/130X_mcRun3_2022_realistic_postEE_v6-v2/50000/48835b31-e408-4b36-82a9-fd5e2592dbc3.root\n",
    "#/store/mc/Run3Summer22EENanoAODv12/WtoLNu-2Jets_PTLNu-600_1J_TuneCP5_13p6TeV_amcatnloFXFX-pythia8/NANOAODSIM/130X_mcRun3_2022_realistic_postEE_v6-v1/2560000/ab02a876-1df5-4766-a231-a36f6a885f8a.root"
   ]
  },
  {
   "cell_type": "code",
   "execution_count": 2,
   "id": "6d3bd0ee-68f6-4a91-bcb6-8d2c5c189166",
   "metadata": {},
   "outputs": [
    {
     "ename": "",
     "evalue": "",
     "output_type": "error",
     "traceback": [
      "\u001b[1;31m커널을 시작하지 못했습니다. \n",
      "\u001b[1;31m포트 사용 대기 시간 초과로 인해 'julia 1.7.3' 커널을 시작할 수 없습니다. \n",
      "\u001b[1;31m자세한 내용은 Jupyter <a href='command:jupyter.viewOutput'>로그</a>를 참조하세요."
     ]
    }
   ],
   "source": [
    "sample = \"/eos/user/s/shjeon/ForShelby/ggF.root\"\n",
    "open_file = uproot.open(sample)\n",
    "events_ = open_file[\"Events\"]\n",
    "keys = events_.keys()\n",
    "\n",
    "met_pt_ = events_[\"PuppiMET_pt\"].array()\n",
    "met_phi_ = events_[\"PuppiMET_phi\"].array()\n",
    "jet_pt_ = events_[\"Jet_pt\"].array()\n",
    "jet_eta_ = events_[\"Jet_eta\"].array()\n",
    "jet_phi_ = events_[\"Jet_phi\"].array()\n",
    "jet_id_ = events_[\"Jet_jetId\"].array()\n",
    "jet_mass_ = events_[\"Jet_mass\"].array()\n",
    "ele_pt_ = events_[\"Electron_pt\"].array()\n",
    "ele_eta_ = events_[\"Electron_eta\"].array()\n",
    "ele_phi_ = events_[\"Electron_phi\"].array()\n",
    "ele_id_ = events_[\"Electron_cutBased\"].array()\n",
    "ele_mass_ = events_[\"Electron_mass\"].array()\n",
    "muo_pt_ = events_[\"Muon_pt\"].array()\n",
    "muo_eta_ = events_[\"Muon_eta\"].array()\n",
    "muo_phi_ = events_[\"Muon_phi\"].array()\n",
    "muo_id_ = events_[\"Muon_tightId\"].array()\n",
    "muo_mass_ = events_[\"Muon_mass\"].array()\n",
    "\n",
    "luminum_ = events_[\"luminosityBlock\"].array()\n",
    "runnum_ = events_[\"run\"].array()\n",
    "evnum_ = events_[\"event\"].array()"
   ]
  },
  {
   "cell_type": "code",
   "execution_count": null,
   "id": "b31b114c-7306-4cff-aa88-2918f8f286c8",
   "metadata": {
    "scrolled": true
   },
   "outputs": [
    {
     "ename": "",
     "evalue": "",
     "output_type": "error",
     "traceback": [
      "\u001b[1;31m커널을 시작하지 못했습니다. \n",
      "\u001b[1;31m포트 사용 대기 시간 초과로 인해 'julia 1.7.3' 커널을 시작할 수 없습니다. \n",
      "\u001b[1;31m자세한 내용은 Jupyter <a href='command:jupyter.viewOutput'>로그</a>를 참조하세요."
     ]
    }
   ],
   "source": [
    "print(jet_pt_)\n",
    "print(jet_id_)\n",
    "mask_jet = (jet_pt_ > 100) & (jet_id_ > 0)\n",
    "print(mask_jet)\n",
    "print (jet_pt_[mask_jet])"
   ]
  },
  {
   "cell_type": "code",
   "execution_count": 41,
   "id": "f3adba18-1f0e-4091-b151-cc7f6f2053a3",
   "metadata": {},
   "outputs": [
    {
     "ename": "",
     "evalue": "",
     "output_type": "error",
     "traceback": [
      "\u001b[1;31m커널을 시작하지 못했습니다. \n",
      "\u001b[1;31m포트 사용 대기 시간 초과로 인해 'julia 1.7.3' 커널을 시작할 수 없습니다. \n",
      "\u001b[1;31m자세한 내용은 Jupyter <a href='command:jupyter.viewOutput'>로그</a>를 참조하세요."
     ]
    }
   ],
   "source": [
    "MASK_ = (ak.sum(jet_pt_ > 1000, axis=1) > 0) & (ak.sum(jet_id_ > 0, axis=1) > 1) & (ak.sum(ele_pt_ > 100, axis=1) == 2) & (ak.sum(ele_id_ > 2, axis=1) == 2)\n",
    "#MASK_ = (ak.sum(jet_pt_ > 1000, axis=1) > 0) & (ak.sum(jet_id_ > 0, axis=1) > 1) & (ak.sum(muo_pt_ > 100, axis=1) == 2) & (ak.sum(muo_id_ > 0, axis=1) == 2)\n",
    "#MASK_ = (ak.sum(jet_pt_ > 1000, axis=1) > 0) & (ak.sum(jet_id_ > 0, axis=1) > 1) & (ak.sum(muo_pt_ > 100, axis=1) == 1) & (ak.sum(muo_id_ > 0, axis=1) == 1) & ((met_pt_ > 400))\n",
    "#MASK_ = (ak.sum(jet_pt_ > 1000, axis=1) > 0) & (ak.sum(jet_id_ > 0, axis=1) > 1) & (ak.sum(ele_pt_ > 100, axis=1) == 1) & (ak.sum(ele_id_ > 0, axis=1) == 1) & ((met_pt_ > 400))\n",
    "#MASK_ = (ak.sum(jet_pt_ > 800, axis=1) > 0) & ((met_pt_ > 400))\n",
    "\n",
    "met_pt = met_pt_[MASK_]\n",
    "met_phi = met_phi_[MASK_]\n",
    "\n",
    "\n",
    "jet_pt = jet_pt_[MASK_]\n",
    "jet_eta = jet_eta_[MASK_]\n",
    "jet_phi = jet_phi_[MASK_]\n",
    "jet_id = jet_id_[MASK_]\n",
    "jet_mass = jet_mass_[MASK_]\n",
    "ele_pt = ele_pt_[MASK_]\n",
    "ele_eta = ele_eta_[MASK_]\n",
    "ele_phi = ele_phi_[MASK_]\n",
    "ele_id = ele_id_[MASK_]\n",
    "ele_mass = ele_mass_[MASK_]\n",
    "\n",
    "\n",
    "muo_pt = muo_pt_[MASK_]\n",
    "muo_eta = muo_eta_[MASK_]\n",
    "muo_phi = muo_phi_[MASK_]\n",
    "muo_id = muo_id_[MASK_]\n",
    "muo_mass = muo_mass_[MASK_]\n",
    "\n",
    "luminum = luminum_[MASK_]\n",
    "runnum = runnum_[MASK_]\n",
    "evnum = evnum_[MASK_]"
   ]
  },
  {
   "cell_type": "code",
   "execution_count": null,
   "id": "9bdf9deb-df80-462c-a66b-d986e23f856b",
   "metadata": {
    "scrolled": true
   },
   "outputs": [
    {
     "ename": "",
     "evalue": "",
     "output_type": "error",
     "traceback": [
      "\u001b[1;31m커널을 시작하지 못했습니다. \n",
      "\u001b[1;31m포트 사용 대기 시간 초과로 인해 'julia 1.7.3' 커널을 시작할 수 없습니다. \n",
      "\u001b[1;31m자세한 내용은 Jupyter <a href='command:jupyter.viewOutput'>로그</a>를 참조하세요."
     ]
    }
   ],
   "source": [
    "#print (met_pt)\n",
    "#lep = vector.obj(pt=muo_pt[:,0], phi=muo_phi[:,0], eta=muo_eta[:,0], mass=muo_mass[:,0])\n",
    "#lep = vector.obj(pt=ele_pt[:,0], phi=ele_phi[:,0], eta=ele_eta[:,0], mass=ele_mass[:,0])\n",
    "jet = vector.obj(pt=jet_pt[:,0], phi=jet_phi[:,0], eta=jet_eta[:,0], mass=jet_mass[:,0])\n",
    "#dphi = np.abs(lep.phi - jet.phi)\n",
    "#dphi = ak.where(dphi < math.pi, dphi, 2*math.pi - dphi)\n",
    "dphi = np.abs(met_phi - jet.phi)\n",
    "print (dphi)\n",
    "for i in range(50):\n",
    "    if (dphi[i] > 2.5):\n",
    "        print (luminum[i], runnum[i], evnum[i])\n",
    "#        print (dphi[i], ele_eta[i], ele_phi[i], jet_eta[i], jet_phi[i], met_phi[i])\n",
    "#        print (dphi[i], muo_eta[i], muo_phi[i], jet_eta[i], jet_phi[i], met_phi[i])\n"
   ]
  },
  {
   "cell_type": "code",
   "execution_count": null,
   "id": "23d43280-4c50-400b-9cef-7de39b43412d",
   "metadata": {
    "scrolled": true
   },
   "outputs": [
    {
     "ename": "",
     "evalue": "",
     "output_type": "error",
     "traceback": [
      "\u001b[1;31m커널을 시작하지 못했습니다. \n",
      "\u001b[1;31m포트 사용 대기 시간 초과로 인해 'julia 1.7.3' 커널을 시작할 수 없습니다. \n",
      "\u001b[1;31m자세한 내용은 Jupyter <a href='command:jupyter.viewOutput'>로그</a>를 참조하세요."
     ]
    }
   ],
   "source": [
    "#lep1 = vector.obj(pt=ele_pt[:,0], phi=ele_phi[:,0], eta=ele_eta[:,0], mass=ele_mass[:,0])\n",
    "#lep2 = vector.obj(pt=ele_pt[:,1], phi=ele_phi[:,1], eta=ele_eta[:,1], mass=ele_mass[:,1])\n",
    "lep1 = vector.obj(pt=muo_pt[:,0], phi=muo_phi[:,0], eta=muo_eta[:,0], mass=muo_mass[:,0])\n",
    "lep2 = vector.obj(pt=muo_pt[:,1], phi=muo_phi[:,1], eta=muo_eta[:,1], mass=muo_mass[:,1])\n",
    "\n",
    "zboson = (lep1+lep2)\n",
    "print (zboson.mass)\n",
    "\n",
    "jet = vector.obj(pt=jet_pt[:,0], phi=jet_phi[:,0], eta=jet_eta[:,0], mass=jet_mass[:,0])\n",
    "dphi = np.abs(zboson.phi - jet.phi)\n",
    "dphi = ak.where(dphi < math.pi, dphi, 2*math.pi - dphi)\n",
    "print (dphi)\n",
    "\n",
    "for i in range(500):\n",
    "    if (dphi[i] > 2.5):\n",
    "        print (luminum[i], runnum[i], evnum[i])\n",
    "#        print (dphi[i], ele_eta[i], ele_phi[i], jet_eta[i], jet_phi[i])\n",
    "        print (dphi[i], muo_eta[i], muo_phi[i], jet_eta[i], jet_phi[i])"
   ]
  },
  {
   "cell_type": "code",
   "execution_count": null,
   "id": "c14eaa39-6a3a-4b4f-a811-7db412152d23",
   "metadata": {},
   "outputs": [],
   "source": []
  }
 ],
 "metadata": {
  "@webio": {
   "lastCommId": null,
   "lastKernelId": null
  },
  "kernelspec": {
   "display_name": "base",
   "language": "python",
   "name": "python3"
  },
  "language_info": {
   "codemirror_mode": {
    "name": "ipython",
    "version": 3
   },
   "file_extension": ".py",
   "mimetype": "text/x-python",
   "name": "python",
   "nbconvert_exporter": "python",
   "pygments_lexer": "ipython3",
   "version": "3.12.8"
  }
 },
 "nbformat": 4,
 "nbformat_minor": 5
}

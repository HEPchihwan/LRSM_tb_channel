{
 "cells": [
  {
   "cell_type": "markdown",
   "id": "1d92790c",
   "metadata": {},
   "source": [
    "## Top tag : 0.9 , 120 250 \n",
    "## B tag : particle net tight 0.6734\n",
    "## HLT : HLT_IsoMu30\n"
   ]
  },
  {
   "cell_type": "code",
   "execution_count": null,
   "id": "e3a145d8",
   "metadata": {},
   "outputs": [],
   "source": []
  },
  {
   "cell_type": "code",
   "execution_count": null,
   "metadata": {},
   "outputs": [],
   "source": []
  },
  {
   "cell_type": "markdown",
   "id": "f79233fd",
   "metadata": {},
   "source": [
    "## BKG"
   ]
  },
  {
   "cell_type": "code",
   "execution_count": 9,
   "id": "4f985da8",
   "metadata": {},
   "outputs": [
    {
     "name": "stdout",
     "output_type": "stream",
     "text": [
      "Skipping SingleMuon_C: incomplete data\n",
      "Skipping SingleMuon_B: incomplete data\n",
      "Skipping JetMET_C: incomplete data\n",
      "Skipping EGamma_D: incomplete data\n",
      "Skipping JetMET_D: incomplete data\n",
      "Skipping EGamma_B: incomplete data\n",
      "Skipping Tau_B: incomplete data\n",
      "Skipping Jpsito2Mu: incomplete data\n",
      "Skipping Tau_C: incomplete data\n",
      "Skipping Muon_C: incomplete data\n",
      "Skipping Tau_D: incomplete data\n",
      "Skipping EGamma_C: incomplete data\n",
      "Skipping Muon_D: incomplete data\n",
      "Skipping JetMET_B: incomplete data\n",
      "Wrote 46 entries (including total row) to summary.csv\n"
     ]
    }
   ],
   "source": [
    "#!/usr/bin/env python3\n",
    "import os\n",
    "import re\n",
    "import glob\n",
    "import csv\n",
    "\n",
    "# 1) 로그 파일이 들어있는 폴더\n",
    "LOG_DIR = \"/data6/Users/achihwan/LRSM_tb_channel/SAMPLEPRODUCTION/using_matrix/condor/bkg/condorfile/out\"\n",
    "\n",
    "# 2) 결과를 담을 리스트\n",
    "rows = []\n",
    "\n",
    "# 3) 각 로그 파일 순회\n",
    "for logpath in glob.glob(os.path.join(LOG_DIR, \"*.log\")):\n",
    "    name = os.path.splitext(os.path.basename(logpath))[0]  # 파일명 베이스\n",
    "    with open(logpath, 'r') as f:\n",
    "        text = f.read()\n",
    "\n",
    "    # 4) 정규표현식으로 숫자 추출\n",
    "    m_pass = re.search(r\"Passed events\\s*:\\s*([0-9]+)\", text)\n",
    "    m_weight = re.search(r\"Per-event weight\\s*:\\s*([0-9.eE\\+\\-]+)\", text)\n",
    "    m_exp = re.search(r\"Expected yield\\s*:\\s*([0-9.eE\\+\\-]+)\", text)\n",
    "\n",
    "    # 5) 모두 찾았을 때만 추가\n",
    "    if m_pass and m_weight and m_exp:\n",
    "        passed      = int(m_pass.group(1))\n",
    "        weight      = float(m_weight.group(1))\n",
    "        expected    = float(m_exp.group(1))\n",
    "        rows.append({\n",
    "            \"sample\": name,\n",
    "            \"Passed events\": passed,\n",
    "            \"Per-event weight\": weight,\n",
    "            \"Expected yield\": expected\n",
    "        })\n",
    "    else:\n",
    "        print(f\"Skipping {name}: incomplete data\")\n",
    "\n",
    "# 6) Expected yield 기준으로 내림차순 정렬\n",
    "rows.sort(key=lambda x: x[\"Expected yield\"], reverse=True)\n",
    "\n",
    "# → 여기서 각 컬럼 합계 계산\n",
    "total_passed   = sum(r[\"Passed events\"]      for r in rows)\n",
    "total_weight   = sum(r[\"Per-event weight\"]   for r in rows)\n",
    "total_expected = sum(r[\"Expected yield\"]      for r in rows)\n",
    "\n",
    "# → 합계 행을 추가\n",
    "rows.append({\n",
    "    \"sample\":          \"Total\",\n",
    "    \"Passed events\":   total_passed,\n",
    "    \"Per-event weight\": total_weight,\n",
    "    \"Expected yield\":  total_expected\n",
    "})\n",
    "\n",
    "# 7) CSV로 저장 (Total 행 포함)\n",
    "out_csv = \"summary.csv\"\n",
    "with open(out_csv, 'w', newline='') as csvfile:\n",
    "    fieldnames = [\"sample\", \"Passed events\", \"Per-event weight\", \"Expected yield\"]\n",
    "    writer = csv.DictWriter(csvfile, fieldnames=fieldnames)\n",
    "    writer.writeheader()\n",
    "    for row in rows:\n",
    "        writer.writerow(row)\n",
    "\n",
    "print(f\"Wrote {len(rows)} entries (including total row) to {out_csv}\")"
   ]
  },
  {
   "cell_type": "markdown",
   "id": "4f6cfebb",
   "metadata": {},
   "source": [
    "## SIG"
   ]
  },
  {
   "cell_type": "code",
   "execution_count": null,
   "id": "36e8a5fe",
   "metadata": {},
   "outputs": [],
   "source": [
    "\n"
   ]
  },
  {
   "cell_type": "code",
   "execution_count": 10,
   "id": "99865d1d",
   "metadata": {},
   "outputs": [
    {
     "name": "stdout",
     "output_type": "stream",
     "text": [
      "Wrote 8 entries to sig_summary.csv\n"
     ]
    }
   ],
   "source": [
    "#!/usr/bin/env python3\n",
    "import os\n",
    "import re\n",
    "import glob\n",
    "import csv\n",
    "import math\n",
    "\n",
    "# 0) background summary.csv 에서 B 값 읽어오기\n",
    "BG_SUMMARY = \"summary.csv\"  # 필요에 따라 경로를 조정하세요\n",
    "with open(BG_SUMMARY, newline='') as f_bg:\n",
    "    reader_bg = csv.DictReader(f_bg)\n",
    "    bg_rows = list(reader_bg)\n",
    "    # 마지막 행의 \"Expected yield\" 를 B 로 설정\n",
    "    B = float(bg_rows[-1][\"Expected yield\"])\n",
    "\n",
    "# 1) 로그 파일이 들어있는 폴더\n",
    "LOG_DIR = \"/data6/Users/achihwan/LRSM_tb_channel/SAMPLEPRODUCTION/using_matrix/condor/sig/condorfile/out\"\n",
    "\n",
    "# 2) 결과를 담을 리스트\n",
    "rows = []\n",
    "\n",
    "# 3) 각 로그 파일 순회\n",
    "for logpath in glob.glob(os.path.join(LOG_DIR, \"*.log\")):\n",
    "    name = os.path.splitext(os.path.basename(logpath))[0]  # 파일명 베이스\n",
    "    with open(logpath, 'r') as f:\n",
    "        text = f.read()\n",
    "\n",
    "    # 4) 정규표현식으로 숫자 추출\n",
    "    m_pass   = re.search(r\"Passed events\\s*:\\s*([0-9]+)\", text)\n",
    "    m_weight = re.search(r\"Per-event weight\\s*:\\s*([0-9.eE\\+\\-]+)\", text)\n",
    "    m_exp    = re.search(r\"Expected yield\\s*:\\s*([0-9.eE\\+\\-]+)\", text)\n",
    "\n",
    "    # 5) 모두 찾았을 때만 추가\n",
    "    if m_pass and m_weight and m_exp:\n",
    "        passed   = int(m_pass.group(1))\n",
    "        weight   = float(m_weight.group(1))\n",
    "        expected = float(m_exp.group(1))\n",
    "        # S_over_sqrtB 계산\n",
    "        s_over_sqrtB = expected / math.sqrt(B)\n",
    "        rows.append({\n",
    "            \"sample\":          name,\n",
    "            \"Passed events\":   passed,\n",
    "            \"Per-event weight\": weight,\n",
    "            \"Expected yield\":  expected,\n",
    "            \"S_over_sqrtB\":    s_over_sqrtB\n",
    "        })\n",
    "    else:\n",
    "        print(f\"Skipping {name}: incomplete data\")\n",
    "\n",
    "# 6) Expected yield 기준으로 내림차순 정렬 (필요 없으면 제거)\n",
    "rows.sort(key=lambda x: x[\"Expected yield\"], reverse=True)\n",
    "\n",
    "# 7) CSV로 저장 (새 컬럼 포함)\n",
    "out_csv = \"sig_summary.csv\"\n",
    "with open(out_csv, 'w', newline='') as csvfile:\n",
    "    fieldnames = [\n",
    "        \"sample\",\n",
    "        \"Passed events\",\n",
    "        \"Per-event weight\",\n",
    "        \"Expected yield\",\n",
    "        \"S_over_sqrtB\"      # 새로 추가된 컬럼\n",
    "    ]\n",
    "    writer = csv.DictWriter(csvfile, fieldnames=fieldnames)\n",
    "    writer.writeheader()\n",
    "    for row in rows:\n",
    "        writer.writerow(row)\n",
    "\n",
    "print(f\"Wrote {len(rows)} entries to {out_csv}\")\n"
   ]
  },
  {
   "cell_type": "code",
   "execution_count": null,
   "id": "4ccfff08",
   "metadata": {},
   "outputs": [
    {
     "name": "stdout",
     "output_type": "stream",
     "text": [
      "[wrmass] No files found under pattern: /data6/Users/achihwan/LRSM_tb_channel/SAMPLEPRODUCTION/using_matrix/condor/1AK4_1AK8/result/btag_PN_tight_hlt_30/WR_cut_0/top_0.9_120_250/mll0pt0eta0/bkg/condorfile/result_*/wrmass_counts.csv\n",
      "[mll] No files found under pattern: /data6/Users/achihwan/LRSM_tb_channel/SAMPLEPRODUCTION/using_matrix/condor/1AK4_1AK8/result/btag_PN_tight_hlt_30/WR_cut_0/top_0.9_120_250/mll0pt0eta0/bkg/condorfile/result_*/mll_counts.csv\n",
      "[ptmu1] No files found under pattern: /data6/Users/achihwan/LRSM_tb_channel/SAMPLEPRODUCTION/using_matrix/condor/1AK4_1AK8/result/btag_PN_tight_hlt_30/WR_cut_0/top_0.9_120_250/mll0pt0eta0/bkg/condorfile/result_*/ptmu1_counts.csv\n",
      "[ptmu2] No files found under pattern: /data6/Users/achihwan/LRSM_tb_channel/SAMPLEPRODUCTION/using_matrix/condor/1AK4_1AK8/result/btag_PN_tight_hlt_30/WR_cut_0/top_0.9_120_250/mll0pt0eta0/bkg/condorfile/result_*/ptmu2_counts.csv\n",
      "[ptt] No files found under pattern: /data6/Users/achihwan/LRSM_tb_channel/SAMPLEPRODUCTION/using_matrix/condor/1AK4_1AK8/result/btag_PN_tight_hlt_30/WR_cut_0/top_0.9_120_250/mll0pt0eta0/bkg/condorfile/result_*/ptt_counts.csv\n",
      "[ptb] No files found under pattern: /data6/Users/achihwan/LRSM_tb_channel/SAMPLEPRODUCTION/using_matrix/condor/1AK4_1AK8/result/btag_PN_tight_hlt_30/WR_cut_0/top_0.9_120_250/mll0pt0eta0/bkg/condorfile/result_*/ptb_counts.csv\n"
     ]
    }
   ],
   "source": []
  },
  {
   "cell_type": "code",
   "execution_count": null,
   "id": "28c513fb",
   "metadata": {},
   "outputs": [],
   "source": []
  },
  {
   "cell_type": "code",
   "execution_count": null,
   "id": "62e71de0",
   "metadata": {},
   "outputs": [],
   "source": []
  },
  {
   "cell_type": "markdown",
   "id": "e8800bb5",
   "metadata": {},
   "source": []
  }
 ],
 "metadata": {
  "kernelspec": {
   "display_name": "hep_env",
   "language": "python",
   "name": "python3"
  },
  "language_info": {
   "codemirror_mode": {
    "name": "ipython",
    "version": 3
   },
   "file_extension": ".py",
   "mimetype": "text/x-python",
   "name": "python",
   "nbconvert_exporter": "python",
   "pygments_lexer": "ipython3",
   "version": "3.10.18"
  }
 },
 "nbformat": 4,
 "nbformat_minor": 5
}

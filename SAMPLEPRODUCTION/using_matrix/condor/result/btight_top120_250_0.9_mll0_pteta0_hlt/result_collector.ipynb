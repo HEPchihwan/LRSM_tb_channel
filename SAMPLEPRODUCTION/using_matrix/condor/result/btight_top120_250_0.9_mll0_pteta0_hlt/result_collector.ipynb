{
 "cells": [
  {
   "cell_type": "markdown",
   "id": "1d92790c",
   "metadata": {},
   "source": [
    "# Btag :\n",
    "ff"
   ]
  },
  {
   "cell_type": "markdown",
   "id": "f79233fd",
   "metadata": {},
   "source": [
    "## BKG"
   ]
  },
  {
   "cell_type": "code",
   "execution_count": null,
   "id": "4f985da8",
   "metadata": {},
   "outputs": [],
   "source": [
    "#!/usr/bin/env python3\n",
    "import os\n",
    "import re\n",
    "import glob\n",
    "import csv\n",
    "\n",
    "# 1) 로그 파일이 들어있는 폴더\n",
    "LOG_DIR = \"/data6/Users/achihwan/LRSM_tb_channel/SAMPLEPRODUCTION/using_matrix/condor/bkg/condorfile/out\"\n",
    "\n",
    "# 2) 결과를 담을 리스트\n",
    "rows = []\n",
    "\n",
    "# 3) 각 로그 파일 순회\n",
    "for logpath in glob.glob(os.path.join(LOG_DIR, \"*.log\")):\n",
    "    name = os.path.splitext(os.path.basename(logpath))[0]  # 파일명 베이스\n",
    "    with open(logpath, 'r') as f:\n",
    "        text = f.read()\n",
    "\n",
    "    # 4) 정규표현식으로 숫자 추출\n",
    "    m_pass = re.search(r\"Passed events\\s*:\\s*([0-9]+)\", text)\n",
    "    m_weight = re.search(r\"Per-event weight\\s*:\\s*([0-9.eE\\+\\-]+)\", text)\n",
    "    m_exp = re.search(r\"Expected yield\\s*:\\s*([0-9.eE\\+\\-]+)\", text)\n",
    "\n",
    "    # 5) 모두 찾았을 때만 추가\n",
    "    if m_pass and m_weight and m_exp:\n",
    "        passed      = int(m_pass.group(1))\n",
    "        weight      = float(m_weight.group(1))\n",
    "        expected    = float(m_exp.group(1))\n",
    "        rows.append({\n",
    "            \"sample\": name,\n",
    "            \"Passed events\": passed,\n",
    "            \"Per-event weight\": weight,\n",
    "            \"Expected yield\": expected\n",
    "        })\n",
    "    else:\n",
    "        print(f\"Skipping {name}: incomplete data\")\n",
    "\n",
    "# 6) CSV로 저장\n",
    "out_csv = \"summary.csv\"\n",
    "with open(out_csv, 'w', newline='') as csvfile:\n",
    "    fieldnames = [\"sample\", \"Passed events\", \"Per-event weight\", \"Expected yield\"]\n",
    "    writer = csv.DictWriter(csvfile, fieldnames=fieldnames)\n",
    "    writer.writeheader()\n",
    "    for row in rows:\n",
    "        writer.writerow(row)\n",
    "\n",
    "print(f\"Wrote {len(rows)} entries to {out_csv}\")\n"
   ]
  },
  {
   "cell_type": "markdown",
   "id": "4f6cfebb",
   "metadata": {},
   "source": [
    "## SIG"
   ]
  },
  {
   "cell_type": "code",
   "execution_count": 1,
   "id": "36e8a5fe",
   "metadata": {},
   "outputs": [
    {
     "name": "stdout",
     "output_type": "stream",
     "text": [
      "Wrote 8 entries to sig_summary.csv\n"
     ]
    }
   ],
   "source": [
    "#!/usr/bin/env python3\n",
    "import os\n",
    "import re\n",
    "import glob\n",
    "import csv\n",
    "\n",
    "# 1) 로그 파일이 들어있는 폴더\n",
    "LOG_DIR = \"/data6/Users/achihwan/LRSM_tb_channel/SAMPLEPRODUCTION/using_matrix/condor/sig/condorfile/out\"\n",
    "\n",
    "# 2) 결과를 담을 리스트\n",
    "rows = []\n",
    "\n",
    "# 3) 각 로그 파일 순회\n",
    "for logpath in glob.glob(os.path.join(LOG_DIR, \"*.log\")):\n",
    "    name = os.path.splitext(os.path.basename(logpath))[0]  # 파일명 베이스\n",
    "    with open(logpath, 'r') as f:\n",
    "        text = f.read()\n",
    "\n",
    "    # 4) 정규표현식으로 숫자 추출\n",
    "    m_pass = re.search(r\"Passed events\\s*:\\s*([0-9]+)\", text)\n",
    "    m_weight = re.search(r\"Per-event weight\\s*:\\s*([0-9.eE\\+\\-]+)\", text)\n",
    "    m_exp = re.search(r\"Expected yield\\s*:\\s*([0-9.eE\\+\\-]+)\", text)\n",
    "\n",
    "    # 5) 모두 찾았을 때만 추가\n",
    "    if m_pass and m_weight and m_exp:\n",
    "        passed      = int(m_pass.group(1))\n",
    "        weight      = float(m_weight.group(1))\n",
    "        expected    = float(m_exp.group(1))\n",
    "        rows.append({\n",
    "            \"sample\": name,\n",
    "            \"Passed events\": passed,\n",
    "            \"Per-event weight\": weight,\n",
    "            \"Expected yield\": expected\n",
    "        })\n",
    "    else:\n",
    "        print(f\"Skipping {name}: incomplete data\")\n",
    "\n",
    "# 6) CSV로 저장\n",
    "out_csv = \"sig_summary.csv\"\n",
    "with open(out_csv, 'w', newline='') as csvfile:\n",
    "    fieldnames = [\"sample\", \"Passed events\", \"Per-event weight\", \"Expected yield\"]\n",
    "    writer = csv.DictWriter(csvfile, fieldnames=fieldnames)\n",
    "    writer.writeheader()\n",
    "    for row in rows:\n",
    "        writer.writerow(row)\n",
    "\n",
    "print(f\"Wrote {len(rows)} entries to {out_csv}\")\n"
   ]
  },
  {
   "cell_type": "markdown",
   "id": "e8800bb5",
   "metadata": {},
   "source": []
  }
 ],
 "metadata": {
  "kernelspec": {
   "display_name": "hep_env",
   "language": "python",
   "name": "python3"
  },
  "language_info": {
   "codemirror_mode": {
    "name": "ipython",
    "version": 3
   },
   "file_extension": ".py",
   "mimetype": "text/x-python",
   "name": "python",
   "nbconvert_exporter": "python",
   "pygments_lexer": "ipython3",
   "version": "3.10.18"
  }
 },
 "nbformat": 4,
 "nbformat_minor": 5
}
